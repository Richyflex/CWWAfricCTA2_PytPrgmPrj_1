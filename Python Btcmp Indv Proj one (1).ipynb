{
 "cells": [
  {
   "cell_type": "code",
   "execution_count": 3,
   "id": "50d068fc",
   "metadata": {},
   "outputs": [
    {
     "name": "stdout",
     "output_type": "stream",
     "text": [
      "   Student ID       Student Name     Sex  Maths Score  Science Score  \\\n",
      "0         101      Richard Owusu    Male           86             92   \n",
      "1         102      Portia Asante  Female           85             80   \n",
      "2         103      Russel Boamah    Male           74             69   \n",
      "3         104       David Adongo    Male           80             71   \n",
      "4         105     Leticia Boamah  Female           69             80   \n",
      "5         106  Richardson Mensah    Male           60             75   \n",
      "6         107       Sethina Osei  Female           71             67   \n",
      "7         108       Thomas Kunde    Male           77             83   \n",
      "\n",
      "   English Score  History Score  Geography Score  \n",
      "0             75             81               93  \n",
      "1             69             78               88  \n",
      "2             82             69               67  \n",
      "3             61             60               73  \n",
      "4             70             74               62  \n",
      "5             81             66               70  \n",
      "6             62             75               79  \n",
      "7             72             81               68  \n"
     ]
    }
   ],
   "source": [
    "#Create a dictionary containing IDs, names, gender subject scores for 8 students\n",
    "import pandas as pd\n",
    "\n",
    "Dict_data = {\n",
    "    'Student ID': [101, 102, 103, 104, 105, 106, 107, 108],\n",
    "    'Student Name': ['Richard Owusu', 'Portia Asante', 'Russel Boamah', 'David Adongo', 'Leticia Boamah', 'Richardson Mensah', 'Sethina Osei', 'Thomas Kunde'],\n",
    "    'Sex': ['Male', 'Female', 'Male', 'Male', 'Female', 'Male', 'Female', 'Male'],\n",
    "    'Maths Score': [86, 85, 74, 80, 69, 60, 71, 77],\n",
    "    'Science Score': [92, 80, 69, 71, 80, 75, 67, 83],\n",
    "    'English Score': [75, 69, 82, 61, 70, 81, 62, 72],\n",
    "    'History Score': [81, 78, 69, 60, 74, 66, 75, 81],\n",
    "    'Geography Score': [93, 88, 67, 73, 62, 70, 79, 68],\n",
    "}\n",
    "\n",
    "# Create a DataFrame from the dictionary created and display the dataframe\n",
    "Indiv_proj = pd.DataFrame(Dict_data)\n",
    "\n",
    "print(Indiv_proj)"
   ]
  },
  {
   "cell_type": "code",
   "execution_count": 4,
   "id": "9cabfbc8",
   "metadata": {},
   "outputs": [],
   "source": [
    "# Checking  and displaying shape of created dataframe\n",
    "Data_frameshape = Indiv_proj.shape      "
   ]
  },
  {
   "cell_type": "code",
   "execution_count": 5,
   "id": "c5bd754e",
   "metadata": {},
   "outputs": [
    {
     "name": "stdout",
     "output_type": "stream",
     "text": [
      "(8, 8)\n"
     ]
    }
   ],
   "source": [
    "print(Data_frameshape)       # Display shape of dataframe"
   ]
  },
  {
   "cell_type": "code",
   "execution_count": 5,
   "id": "382817fc",
   "metadata": {},
   "outputs": [
    {
     "name": "stdout",
     "output_type": "stream",
     "text": [
      "Student ID         0\n",
      "Student Name       0\n",
      "Sex                0\n",
      "Maths Score        0\n",
      "Science Score      0\n",
      "English Score      0\n",
      "History Score      0\n",
      "Geography Score    0\n",
      "dtype: int64\n"
     ]
    }
   ],
   "source": [
    "#Check for missing values in Indiv_proj Dataframe\n",
    "missing_values = Indiv_proj.isnull().sum()\n",
    "print(missing_values)"
   ]
  },
  {
   "cell_type": "code",
   "execution_count": 7,
   "id": "6e37618b",
   "metadata": {},
   "outputs": [
    {
     "name": "stdout",
     "output_type": "stream",
     "text": [
      "0\n"
     ]
    }
   ],
   "source": [
    "#Check for duplicates in dataframe and report count of duplicates\n",
    "duplicate_count = Indiv_proj[Indiv_proj.duplicated()].shape[0]\n",
    "print(duplicate_count)"
   ]
  },
  {
   "cell_type": "code",
   "execution_count": 8,
   "id": "a634f4c1",
   "metadata": {},
   "outputs": [
    {
     "name": "stdout",
     "output_type": "stream",
     "text": [
      "   Student ID  Student Name    Sex  Maths Score  Science Score  English Score  \\\n",
      "0       False         False  False        False          False          False   \n",
      "1       False         False  False        False          False          False   \n",
      "2       False         False  False        False          False          False   \n",
      "3       False         False  False        False          False          False   \n",
      "4       False         False  False        False          False          False   \n",
      "5       False         False  False        False          False          False   \n",
      "6       False         False  False        False          False          False   \n",
      "7       False         False  False        False          False          False   \n",
      "\n",
      "   History Score  Geography Score  \n",
      "0          False            False  \n",
      "1          False            False  \n",
      "2          False            False  \n",
      "3          False            False  \n",
      "4          False            False  \n",
      "5          False            False  \n",
      "6          False            False  \n",
      "7          False            False  \n",
      "Student ID         0\n",
      "Student Name       0\n",
      "Sex                0\n",
      "Maths Score        0\n",
      "Science Score      0\n",
      "English Score      0\n",
      "History Score      0\n",
      "Geography Score    0\n",
      "dtype: int64\n"
     ]
    }
   ],
   "source": [
    "# Alternatively,check for missing values in Indiv_proj Dataframe\n",
    "missing_values = Indiv_proj.isnull()\n",
    "missing_columns = missing_values.sum()\n",
    "print(missing_values)\n",
    "print(missing_columns)"
   ]
  },
  {
   "cell_type": "code",
   "execution_count": 9,
   "id": "0f0f743f",
   "metadata": {},
   "outputs": [
    {
     "name": "stdout",
     "output_type": "stream",
     "text": [
      "   Student ID       Student Name     Sex  Maths Score  Science Score  \\\n",
      "0         101      Richard Owusu    Male           86             92   \n",
      "1         102      Portia Asante  Female           85             80   \n",
      "2         103      Russel Boamah    Male           74             69   \n",
      "3         104       David Adongo    Male           80             71   \n",
      "4         105     Leticia Boamah  Female           69             80   \n",
      "5         106  Richardson Mensah    Male           60             75   \n",
      "6         107       Sethina Osei  Female           71             67   \n",
      "7         108       Thomas Kunde    Male           77             83   \n",
      "\n",
      "   English Score  History Score  Geography Score  AverageScore  \n",
      "0             75             81               93          85.4  \n",
      "1             69             78               88          80.0  \n",
      "2             82             69               67          72.2  \n",
      "3             61             60               73          69.0  \n",
      "4             70             74               62          71.0  \n",
      "5             81             66               70          70.4  \n",
      "6             62             75               79          70.8  \n",
      "7             72             81               68          76.2  \n"
     ]
    }
   ],
   "source": [
    "# Calculating and adding new column to dataframe for average score of subjects for each student and displaying updated dataframe\n",
    "\n",
    "Indiv_proj['AverageScore'] = Indiv_proj[['Maths Score', 'Science Score', 'English Score', 'History Score', 'Geography Score']].mean(axis=1)\n",
    "print(Indiv_proj)"
   ]
  },
  {
   "cell_type": "code",
   "execution_count": 12,
   "id": "dec7787e",
   "metadata": {},
   "outputs": [
    {
     "name": "stdout",
     "output_type": "stream",
     "text": [
      "Maths Score        75.250\n",
      "Science Score      77.125\n",
      "English Score      71.500\n",
      "History Score      73.000\n",
      "Geography Score    75.000\n",
      "dtype: float64\n"
     ]
    }
   ],
   "source": [
    "#Calculate and print mean score for each subject\n",
    "\n",
    "selected_columns = ['Maths Score', 'Science Score', 'English Score', 'History Score', 'Geography Score']\n",
    "mean_scores = Indiv_proj[selected_columns].mean()\n",
    "print(mean_scores)"
   ]
  },
  {
   "cell_type": "code",
   "execution_count": 13,
   "id": "f9c9c276",
   "metadata": {},
   "outputs": [
    {
     "name": "stdout",
     "output_type": "stream",
     "text": [
      "Maths Score        86\n",
      "Science Score      92\n",
      "English Score      82\n",
      "History Score      81\n",
      "Geography Score    93\n",
      "dtype: int64\n"
     ]
    }
   ],
   "source": [
    "#Calculate and print maximum score for each subject\n",
    "\n",
    "Max_scores = Indiv_proj[selected_columns].max()\n",
    "print(Max_scores)"
   ]
  },
  {
   "cell_type": "code",
   "execution_count": 14,
   "id": "bc05101f",
   "metadata": {},
   "outputs": [
    {
     "name": "stdout",
     "output_type": "stream",
     "text": [
      "Maths Score        60\n",
      "Science Score      67\n",
      "English Score      61\n",
      "History Score      60\n",
      "Geography Score    62\n",
      "dtype: int64\n"
     ]
    }
   ],
   "source": [
    "#Calculate and print minimum score for each subject\n",
    "\n",
    "Minimum_scores = Indiv_proj[selected_columns].min()\n",
    "print(Minimum_scores)"
   ]
  },
  {
   "cell_type": "code",
   "execution_count": 24,
   "id": "bdae262a",
   "metadata": {},
   "outputs": [
    {
     "name": "stdout",
     "output_type": "stream",
     "text": [
      "        Maths Score  Science Score  English Score  History Score  \\\n",
      "Sex                                                                \n",
      "Female         75.0      75.666667           67.0      75.666667   \n",
      "Male           75.4      78.000000           74.2      71.400000   \n",
      "\n",
      "        Geography Score  \n",
      "Sex                      \n",
      "Female        76.333333  \n",
      "Male          74.200000  \n"
     ]
    }
   ],
   "source": [
    "# Calculate and pring overall mean score for all subjects grouped by gender\n",
    "\n",
    "Sex_mean_scores = Indiv_proj.groupby('Sex')[selected_columns].mean()\n",
    "print(Sex_mean_scores)"
   ]
  },
  {
   "cell_type": "code",
   "execution_count": 31,
   "id": "bfa2db8f",
   "metadata": {},
   "outputs": [
    {
     "data": {
      "image/png": "[encoded data removed]",
      "text/plain": [
       "<Figure size 640x480 with 1 Axes>"
      ]
     },
     "metadata": {},
     "output_type": "display_data"
    }
   ],
   "source": [
    "# Plot a bar chart visualization for average scores of students for all subjects grouped by gender\n",
    "\n",
    "import matplotlib.pyplot as plt\n",
    "# Plotting the bar chart for students average scores in subjects\n",
    "Sex_mean_scores.plot(kind='bar', rot=45) \n",
    "\n",
    "# Set labels and title for the plot\n",
    "plt.xlabel('Sex')\n",
    "plt.ylabel('Average Score')\n",
    "plt.title('Average Scores by Gender for Selected Subjects')\n",
    "\n",
    "# Show the plot\n",
    "plt.show()\n"
   ]
  },
  {
   "cell_type": "code",
   "execution_count": null,
   "id": "3a19f570",
   "metadata": {},
   "outputs": [],
   "source": []
  }
 ],
 "metadata": {
  "kernelspec": {
   "display_name": "Python 3 (ipykernel)",
   "language": "python",
   "name": "python3"
  },
  "language_info": {
   "codemirror_mode": {
    "name": "ipython",
    "version": 3
   },
   "file_extension": ".py",
   "mimetype": "text/x-python",
   "name": "python",
   "nbconvert_exporter": "python",
   "pygments_lexer": "ipython3",
   "version": "3.11.3"
  }
 },
 "nbformat": 4,
 "nbformat_minor": 5
}
